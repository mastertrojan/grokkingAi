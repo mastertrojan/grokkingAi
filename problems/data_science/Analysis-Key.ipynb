{
 "cells": [
  {
   "cell_type": "markdown",
   "metadata": {},
   "source": [
    "### Data Analysis using Pandas\n",
    "Pandas has become the defacto package for data analysis. In this workshop, we are going to use the basics of pandas to analyze the interests of today's group. We are going to use meetup.com's api and fetch the list of interests that are listed in each of our meetup.com profile. We will compute which interests are common, which are uncommon, and find out which of the two members have most similar interests. Lets get started by importing the essentials."
   ]
  },
  {
   "cell_type": "code",
   "execution_count": null,
   "metadata": {
    "collapsed": true
   },
   "outputs": [],
   "source": [
    "import meetup.api\n",
    "import pandas as pd\n",
    "from IPython.display import Image, display, HTML\n",
    "from itertools import combinations"
   ]
  },
  {
   "cell_type": "markdown",
   "metadata": {},
   "source": [
    "Next we need your meetup.com API. You will find it https://secure.meetup.com/meetup_api/key/ \n",
    "Also we need today's event id. The event id created under Chicago Pythonistas is **233460758** and that under Chicago Python user group is **236205125**. Use the one that has the higher number of RSVPs so that you get more data points. As an additional exercise, you might go for merging the two sets of RSVPs - but that's not needed for the workshop."
   ]
  },
  {
   "cell_type": "code",
   "execution_count": null,
   "metadata": {
    "collapsed": true
   },
   "outputs": [],
   "source": [
    "API_KEY = '3f6d3275d3b6314e73453c4aa27'\n",
    "event_id='235484841'"
   ]
  },
  {
   "cell_type": "markdown",
   "metadata": {},
   "source": [
    "The following function uses the api and loads the data into a pandas data frame."
   ]
  },
  {
   "cell_type": "code",
   "execution_count": 114,
   "metadata": {},
   "outputs": [],
   "source": [
    "def get_members(event_id):\n",
    "    client = meetup.api.Client(API_KEY)\n",
    "    rsvps=client.GetRsvps(event_id=event_id, urlname='_ChiPy_')\n",
    "    member_id = ','.join([str(i['member']['member_id']) for i in rsvps.results])\n",
    "    return client.GetMembers(member_id=member_id)\n",
    "\n",
    "def get_topics(members):\n",
    "    topics = set()\n",
    "    for member in members.results:\n",
    "        try:\n",
    "            for t in member['topics']:\n",
    "                topics.add(t['name'])\n",
    "        except:\n",
    "            pass\n",
    "\n",
    "    return list(topics)\n",
    "\n",
    "def df_topics(event_id):\n",
    "    members = get_members(event_id=event_id)\n",
    "    topics = get_topics(members)\n",
    "    columns=['name','id','thumb_link'] + topics\n",
    "    \n",
    "    data = [] \n",
    "    for member in members.results:\n",
    "        topic_vector = [0]*len(topics)\n",
    "        for topic in member['topics']:\n",
    "            index = topics.index(topic['name'])        \n",
    "            topic_vector[index-1] = 1\n",
    "        try:\n",
    "            data.append([member['name'], member['id'], member['photo']['thumb_link']] + topic_vector)\n",
    "        except:\n",
    "            pass\n",
    "    return pd.DataFrame(data=data, columns=columns)\n",
    "    \n",
    "    #df.to_csv('output.csv', sep=\";\")"
   ]
  },
  {
   "cell_type": "markdown",
   "metadata": {},
   "source": [
    "So you need to call the df_topics function with the event id and it would give you back a pandas dataframe."
   ]
  },
  {
   "cell_type": "markdown",
   "metadata": {},
   "source": [
    "### Load data from meetup.com into a dataframe by calling df_topics"
   ]
  },
  {
   "cell_type": "code",
   "execution_count": 204,
   "metadata": {},
   "outputs": [
    {
     "name": "stdout",
     "output_type": "stream",
     "text": [
      "29/30 (10 seconds remaining)\n",
      "28/30 (10 seconds remaining)\n"
     ]
    },
    {
     "data": {
      "text/html": [
       "<div>\n",
       "<table border=\"1\" class=\"dataframe\">\n",
       "  <thead>\n",
       "    <tr style=\"text-align: right;\">\n",
       "      <th></th>\n",
       "      <th>name</th>\n",
       "      <th>id</th>\n",
       "      <th>thumb_link</th>\n",
       "      <th>Cloud Deployment</th>\n",
       "      <th>NoSQL</th>\n",
       "      <th>Mobile Technology</th>\n",
       "      <th>Dungeons &amp; Dragons</th>\n",
       "      <th>Open Data</th>\n",
       "      <th>Entrepreneurship</th>\n",
       "      <th>Science Fiction</th>\n",
       "      <th>...</th>\n",
       "      <th>Business Analytics</th>\n",
       "      <th>Cat Rescue</th>\n",
       "      <th>Critical Thinking</th>\n",
       "      <th>Agnostic</th>\n",
       "      <th>Mobile Web</th>\n",
       "      <th>Asian Professionals</th>\n",
       "      <th>Virtualization</th>\n",
       "      <th>National Politics</th>\n",
       "      <th>Flamenco</th>\n",
       "      <th>Artificial Intelligence</th>\n",
       "    </tr>\n",
       "  </thead>\n",
       "  <tbody>\n",
       "    <tr>\n",
       "      <th>0</th>\n",
       "      <td>abhishek kumar</td>\n",
       "      <td>186173861</td>\n",
       "      <td>http://photos4.meetupstatic.com/photos/member/...</td>\n",
       "      <td>0</td>\n",
       "      <td>0</td>\n",
       "      <td>0</td>\n",
       "      <td>0</td>\n",
       "      <td>0</td>\n",
       "      <td>0</td>\n",
       "      <td>1</td>\n",
       "      <td>...</td>\n",
       "      <td>0</td>\n",
       "      <td>0</td>\n",
       "      <td>0</td>\n",
       "      <td>0</td>\n",
       "      <td>0</td>\n",
       "      <td>0</td>\n",
       "      <td>0</td>\n",
       "      <td>0</td>\n",
       "      <td>0</td>\n",
       "      <td>0</td>\n",
       "    </tr>\n",
       "    <tr>\n",
       "      <th>1</th>\n",
       "      <td>Aile Oleghe</td>\n",
       "      <td>209272270</td>\n",
       "      <td>http://photos1.meetupstatic.com/photos/member/...</td>\n",
       "      <td>0</td>\n",
       "      <td>0</td>\n",
       "      <td>0</td>\n",
       "      <td>0</td>\n",
       "      <td>0</td>\n",
       "      <td>0</td>\n",
       "      <td>0</td>\n",
       "      <td>...</td>\n",
       "      <td>0</td>\n",
       "      <td>0</td>\n",
       "      <td>0</td>\n",
       "      <td>0</td>\n",
       "      <td>0</td>\n",
       "      <td>0</td>\n",
       "      <td>0</td>\n",
       "      <td>0</td>\n",
       "      <td>0</td>\n",
       "      <td>0</td>\n",
       "    </tr>\n",
       "    <tr>\n",
       "      <th>2</th>\n",
       "      <td>Alexandria</td>\n",
       "      <td>189631525</td>\n",
       "      <td>http://photos2.meetupstatic.com/photos/member/...</td>\n",
       "      <td>0</td>\n",
       "      <td>0</td>\n",
       "      <td>0</td>\n",
       "      <td>0</td>\n",
       "      <td>0</td>\n",
       "      <td>0</td>\n",
       "      <td>0</td>\n",
       "      <td>...</td>\n",
       "      <td>0</td>\n",
       "      <td>0</td>\n",
       "      <td>0</td>\n",
       "      <td>0</td>\n",
       "      <td>0</td>\n",
       "      <td>0</td>\n",
       "      <td>0</td>\n",
       "      <td>0</td>\n",
       "      <td>0</td>\n",
       "      <td>0</td>\n",
       "    </tr>\n",
       "    <tr>\n",
       "      <th>3</th>\n",
       "      <td>Alfredo Nava</td>\n",
       "      <td>146641722</td>\n",
       "      <td>http://photos1.meetupstatic.com/photos/member/...</td>\n",
       "      <td>0</td>\n",
       "      <td>1</td>\n",
       "      <td>0</td>\n",
       "      <td>0</td>\n",
       "      <td>1</td>\n",
       "      <td>0</td>\n",
       "      <td>0</td>\n",
       "      <td>...</td>\n",
       "      <td>0</td>\n",
       "      <td>0</td>\n",
       "      <td>0</td>\n",
       "      <td>0</td>\n",
       "      <td>0</td>\n",
       "      <td>0</td>\n",
       "      <td>0</td>\n",
       "      <td>0</td>\n",
       "      <td>1</td>\n",
       "      <td>0</td>\n",
       "    </tr>\n",
       "    <tr>\n",
       "      <th>4</th>\n",
       "      <td>Amy Lehman</td>\n",
       "      <td>122663532</td>\n",
       "      <td>http://photos2.meetupstatic.com/photos/member/...</td>\n",
       "      <td>0</td>\n",
       "      <td>0</td>\n",
       "      <td>0</td>\n",
       "      <td>0</td>\n",
       "      <td>0</td>\n",
       "      <td>0</td>\n",
       "      <td>0</td>\n",
       "      <td>...</td>\n",
       "      <td>0</td>\n",
       "      <td>0</td>\n",
       "      <td>0</td>\n",
       "      <td>0</td>\n",
       "      <td>0</td>\n",
       "      <td>0</td>\n",
       "      <td>0</td>\n",
       "      <td>0</td>\n",
       "      <td>0</td>\n",
       "      <td>0</td>\n",
       "    </tr>\n",
       "    <tr>\n",
       "      <th>5</th>\n",
       "      <td>Anish</td>\n",
       "      <td>150646522</td>\n",
       "      <td>http://photos3.meetupstatic.com/photos/member/...</td>\n",
       "      <td>0</td>\n",
       "      <td>0</td>\n",
       "      <td>0</td>\n",
       "      <td>0</td>\n",
       "      <td>0</td>\n",
       "      <td>0</td>\n",
       "      <td>0</td>\n",
       "      <td>...</td>\n",
       "      <td>0</td>\n",
       "      <td>0</td>\n",
       "      <td>0</td>\n",
       "      <td>0</td>\n",
       "      <td>0</td>\n",
       "      <td>0</td>\n",
       "      <td>0</td>\n",
       "      <td>0</td>\n",
       "      <td>0</td>\n",
       "      <td>0</td>\n",
       "    </tr>\n",
       "    <tr>\n",
       "      <th>6</th>\n",
       "      <td>Ashley</td>\n",
       "      <td>36278932</td>\n",
       "      <td>http://photos2.meetupstatic.com/photos/member/...</td>\n",
       "      <td>0</td>\n",
       "      <td>1</td>\n",
       "      <td>0</td>\n",
       "      <td>0</td>\n",
       "      <td>0</td>\n",
       "      <td>0</td>\n",
       "      <td>0</td>\n",
       "      <td>...</td>\n",
       "      <td>0</td>\n",
       "      <td>0</td>\n",
       "      <td>0</td>\n",
       "      <td>0</td>\n",
       "      <td>0</td>\n",
       "      <td>0</td>\n",
       "      <td>0</td>\n",
       "      <td>0</td>\n",
       "      <td>0</td>\n",
       "      <td>0</td>\n",
       "    </tr>\n",
       "    <tr>\n",
       "      <th>7</th>\n",
       "      <td>Bee DC</td>\n",
       "      <td>146477422</td>\n",
       "      <td>http://photos4.meetupstatic.com/photos/member/...</td>\n",
       "      <td>0</td>\n",
       "      <td>0</td>\n",
       "      <td>0</td>\n",
       "      <td>0</td>\n",
       "      <td>0</td>\n",
       "      <td>0</td>\n",
       "      <td>0</td>\n",
       "      <td>...</td>\n",
       "      <td>0</td>\n",
       "      <td>1</td>\n",
       "      <td>0</td>\n",
       "      <td>0</td>\n",
       "      <td>0</td>\n",
       "      <td>0</td>\n",
       "      <td>0</td>\n",
       "      <td>0</td>\n",
       "      <td>1</td>\n",
       "      <td>0</td>\n",
       "    </tr>\n",
       "    <tr>\n",
       "      <th>8</th>\n",
       "      <td>Chris Wight</td>\n",
       "      <td>212477108</td>\n",
       "      <td>http://photos1.meetupstatic.com/photos/member/...</td>\n",
       "      <td>0</td>\n",
       "      <td>0</td>\n",
       "      <td>0</td>\n",
       "      <td>0</td>\n",
       "      <td>0</td>\n",
       "      <td>0</td>\n",
       "      <td>0</td>\n",
       "      <td>...</td>\n",
       "      <td>0</td>\n",
       "      <td>0</td>\n",
       "      <td>0</td>\n",
       "      <td>0</td>\n",
       "      <td>0</td>\n",
       "      <td>0</td>\n",
       "      <td>0</td>\n",
       "      <td>0</td>\n",
       "      <td>0</td>\n",
       "      <td>0</td>\n",
       "    </tr>\n",
       "    <tr>\n",
       "      <th>9</th>\n",
       "      <td>Dan Temkin</td>\n",
       "      <td>209909313</td>\n",
       "      <td>http://photos1.meetupstatic.com/photos/member/...</td>\n",
       "      <td>0</td>\n",
       "      <td>0</td>\n",
       "      <td>0</td>\n",
       "      <td>0</td>\n",
       "      <td>0</td>\n",
       "      <td>0</td>\n",
       "      <td>0</td>\n",
       "      <td>...</td>\n",
       "      <td>0</td>\n",
       "      <td>0</td>\n",
       "      <td>0</td>\n",
       "      <td>0</td>\n",
       "      <td>0</td>\n",
       "      <td>0</td>\n",
       "      <td>0</td>\n",
       "      <td>0</td>\n",
       "      <td>0</td>\n",
       "      <td>0</td>\n",
       "    </tr>\n",
       "  </tbody>\n",
       "</table>\n",
       "<p>10 rows × 514 columns</p>\n",
       "</div>"
      ],
      "text/plain": [
       "             name         id  \\\n",
       "0  abhishek kumar  186173861   \n",
       "1     Aile Oleghe  209272270   \n",
       "2      Alexandria  189631525   \n",
       "3    Alfredo Nava  146641722   \n",
       "4      Amy Lehman  122663532   \n",
       "5           Anish  150646522   \n",
       "6          Ashley   36278932   \n",
       "7          Bee DC  146477422   \n",
       "8     Chris Wight  212477108   \n",
       "9      Dan Temkin  209909313   \n",
       "\n",
       "                                          thumb_link  Cloud Deployment  NoSQL  \\\n",
       "0  http://photos4.meetupstatic.com/photos/member/...                 0      0   \n",
       "1  http://photos1.meetupstatic.com/photos/member/...                 0      0   \n",
       "2  http://photos2.meetupstatic.com/photos/member/...                 0      0   \n",
       "3  http://photos1.meetupstatic.com/photos/member/...                 0      1   \n",
       "4  http://photos2.meetupstatic.com/photos/member/...                 0      0   \n",
       "5  http://photos3.meetupstatic.com/photos/member/...                 0      0   \n",
       "6  http://photos2.meetupstatic.com/photos/member/...                 0      1   \n",
       "7  http://photos4.meetupstatic.com/photos/member/...                 0      0   \n",
       "8  http://photos1.meetupstatic.com/photos/member/...                 0      0   \n",
       "9  http://photos1.meetupstatic.com/photos/member/...                 0      0   \n",
       "\n",
       "   Mobile Technology  Dungeons & Dragons  Open Data  Entrepreneurship  \\\n",
       "0                  0                   0          0                 0   \n",
       "1                  0                   0          0                 0   \n",
       "2                  0                   0          0                 0   \n",
       "3                  0                   0          1                 0   \n",
       "4                  0                   0          0                 0   \n",
       "5                  0                   0          0                 0   \n",
       "6                  0                   0          0                 0   \n",
       "7                  0                   0          0                 0   \n",
       "8                  0                   0          0                 0   \n",
       "9                  0                   0          0                 0   \n",
       "\n",
       "   Science Fiction           ...             Business Analytics  Cat Rescue  \\\n",
       "0                1           ...                              0           0   \n",
       "1                0           ...                              0           0   \n",
       "2                0           ...                              0           0   \n",
       "3                0           ...                              0           0   \n",
       "4                0           ...                              0           0   \n",
       "5                0           ...                              0           0   \n",
       "6                0           ...                              0           0   \n",
       "7                0           ...                              0           1   \n",
       "8                0           ...                              0           0   \n",
       "9                0           ...                              0           0   \n",
       "\n",
       "   Critical Thinking  Agnostic  Mobile Web  Asian Professionals  \\\n",
       "0                  0         0           0                    0   \n",
       "1                  0         0           0                    0   \n",
       "2                  0         0           0                    0   \n",
       "3                  0         0           0                    0   \n",
       "4                  0         0           0                    0   \n",
       "5                  0         0           0                    0   \n",
       "6                  0         0           0                    0   \n",
       "7                  0         0           0                    0   \n",
       "8                  0         0           0                    0   \n",
       "9                  0         0           0                    0   \n",
       "\n",
       "   Virtualization  National Politics  Flamenco  Artificial Intelligence  \n",
       "0               0                  0         0                        0  \n",
       "1               0                  0         0                        0  \n",
       "2               0                  0         0                        0  \n",
       "3               0                  0         1                        0  \n",
       "4               0                  0         0                        0  \n",
       "5               0                  0         0                        0  \n",
       "6               0                  0         0                        0  \n",
       "7               0                  0         1                        0  \n",
       "8               0                  0         0                        0  \n",
       "9               0                  0         0                        0  \n",
       "\n",
       "[10 rows x 514 columns]"
      ]
     },
     "execution_count": 204,
     "metadata": {},
     "output_type": "execute_result"
    }
   ],
   "source": [
    "df = df_topics(event_id='235484841')\n",
    "df.head(n=10)"
   ]
  },
  {
   "cell_type": "markdown",
   "metadata": {},
   "source": [
    "### What does the first and last 10 rows of the dataset look like?"
   ]
  },
  {
   "cell_type": "markdown",
   "metadata": {},
   "source": [
    "### What are the column names?"
   ]
  },
  {
   "cell_type": "markdown",
   "metadata": {},
   "source": [
    "### Additional Exercise: Can you merge the two data for two events into one data frame and remove the dups?"
   ]
  },
  {
   "cell_type": "markdown",
   "metadata": {},
   "source": [
    "### What are the top 10 most common interests of today’s attendees?"
   ]
  },
  {
   "cell_type": "code",
   "execution_count": 205,
   "metadata": {},
   "outputs": [
    {
     "data": {
      "text/plain": [
       "Using MongoDB in the cloud    21\n",
       "CSS                           19\n",
       "Chinese Language              19\n",
       "Food Photography              18\n",
       "Hacking                       15\n",
       "House Music                   13\n",
       "Kanban                        13\n",
       "Android Development           12\n",
       "Self Exploration              11\n",
       "IBM                           11\n",
       "dtype: int64"
      ]
     },
     "execution_count": 205,
     "metadata": {},
     "output_type": "execute_result"
    }
   ],
   "source": [
    "df.ix[:, 'Cloud Deployment':].sum().nlargest(10)"
   ]
  },
  {
   "cell_type": "markdown",
   "metadata": {},
   "source": [
    "### What is the third most popular and third least popular topic of interest? Are there ties?"
   ]
  },
  {
   "cell_type": "code",
   "execution_count": 206,
   "metadata": {},
   "outputs": [
    {
     "name": "stdout",
     "output_type": "stream",
     "text": [
      "Chinese Language 19\n",
      "Cloud Deployment 1\n"
     ]
    }
   ],
   "source": [
    "_df = df.ix[:, 'Cloud Deployment':]\n",
    "import numpy as np\n",
    "s=_df.sum()\n",
    "most_popular = s.order(ascending=False).rank(ascending=False).nsmallest(3).keys()[-1]\n",
    "least_popular = s.order().rank().nsmallest(3).keys()[-1]\n",
    "print most_popular, s[most_popular] \n",
    "print least_popular, s[least_popular] "
   ]
  },
  {
   "cell_type": "markdown",
   "metadata": {},
   "source": [
    "### Which members have the third most popular interest?"
   ]
  },
  {
   "cell_type": "code",
   "execution_count": 207,
   "metadata": {},
   "outputs": [
    {
     "data": {
      "text/html": [
       "<div>\n",
       "<table border=\"1\" class=\"dataframe\">\n",
       "  <thead>\n",
       "    <tr style=\"text-align: right;\">\n",
       "      <th></th>\n",
       "      <th>name</th>\n",
       "      <th>Chinese Language</th>\n",
       "    </tr>\n",
       "  </thead>\n",
       "  <tbody>\n",
       "    <tr>\n",
       "      <th>1</th>\n",
       "      <td>Aile Oleghe</td>\n",
       "      <td>1</td>\n",
       "    </tr>\n",
       "    <tr>\n",
       "      <th>3</th>\n",
       "      <td>Alfredo Nava</td>\n",
       "      <td>1</td>\n",
       "    </tr>\n",
       "    <tr>\n",
       "      <th>6</th>\n",
       "      <td>Ashley</td>\n",
       "      <td>1</td>\n",
       "    </tr>\n",
       "    <tr>\n",
       "      <th>7</th>\n",
       "      <td>Bee DC</td>\n",
       "      <td>1</td>\n",
       "    </tr>\n",
       "    <tr>\n",
       "      <th>9</th>\n",
       "      <td>Dan Temkin</td>\n",
       "      <td>1</td>\n",
       "    </tr>\n",
       "    <tr>\n",
       "      <th>10</th>\n",
       "      <td>David Locke</td>\n",
       "      <td>1</td>\n",
       "    </tr>\n",
       "    <tr>\n",
       "      <th>11</th>\n",
       "      <td>David Matsumura</td>\n",
       "      <td>1</td>\n",
       "    </tr>\n",
       "    <tr>\n",
       "      <th>12</th>\n",
       "      <td>Dawn M Graunke</td>\n",
       "      <td>1</td>\n",
       "    </tr>\n",
       "    <tr>\n",
       "      <th>18</th>\n",
       "      <td>frank</td>\n",
       "      <td>1</td>\n",
       "    </tr>\n",
       "    <tr>\n",
       "      <th>19</th>\n",
       "      <td>Govind G Nair</td>\n",
       "      <td>1</td>\n",
       "    </tr>\n",
       "    <tr>\n",
       "      <th>22</th>\n",
       "      <td>Jason Wirth</td>\n",
       "      <td>1</td>\n",
       "    </tr>\n",
       "    <tr>\n",
       "      <th>23</th>\n",
       "      <td>Jayna Kehres</td>\n",
       "      <td>1</td>\n",
       "    </tr>\n",
       "    <tr>\n",
       "      <th>28</th>\n",
       "      <td>Kem</td>\n",
       "      <td>1</td>\n",
       "    </tr>\n",
       "    <tr>\n",
       "      <th>31</th>\n",
       "      <td>Lauren</td>\n",
       "      <td>1</td>\n",
       "    </tr>\n",
       "    <tr>\n",
       "      <th>34</th>\n",
       "      <td>Matthew Green</td>\n",
       "      <td>1</td>\n",
       "    </tr>\n",
       "    <tr>\n",
       "      <th>46</th>\n",
       "      <td>Suz D</td>\n",
       "      <td>1</td>\n",
       "    </tr>\n",
       "    <tr>\n",
       "      <th>47</th>\n",
       "      <td>Tathagata Dasgupta</td>\n",
       "      <td>1</td>\n",
       "    </tr>\n",
       "    <tr>\n",
       "      <th>49</th>\n",
       "      <td>Trevor</td>\n",
       "      <td>1</td>\n",
       "    </tr>\n",
       "    <tr>\n",
       "      <th>51</th>\n",
       "      <td>Virginia</td>\n",
       "      <td>1</td>\n",
       "    </tr>\n",
       "  </tbody>\n",
       "</table>\n",
       "</div>"
      ],
      "text/plain": [
       "                  name  Chinese Language\n",
       "1          Aile Oleghe                 1\n",
       "3         Alfredo Nava                 1\n",
       "6               Ashley                 1\n",
       "7               Bee DC                 1\n",
       "9           Dan Temkin                 1\n",
       "10         David Locke                 1\n",
       "11     David Matsumura                 1\n",
       "12      Dawn M Graunke                 1\n",
       "18               frank                 1\n",
       "19       Govind G Nair                 1\n",
       "22         Jason Wirth                 1\n",
       "23        Jayna Kehres                 1\n",
       "28                 Kem                 1\n",
       "31              Lauren                 1\n",
       "34       Matthew Green                 1\n",
       "46               Suz D                 1\n",
       "47  Tathagata Dasgupta                 1\n",
       "49              Trevor                 1\n",
       "51            Virginia                 1"
      ]
     },
     "execution_count": 207,
     "metadata": {},
     "output_type": "execute_result"
    }
   ],
   "source": [
    "df[df[most_popular]==1][['name', most_popular]]"
   ]
  },
  {
   "cell_type": "markdown",
   "metadata": {},
   "source": [
    "### Which members have the third most popular interest?"
   ]
  },
  {
   "cell_type": "code",
   "execution_count": 208,
   "metadata": {},
   "outputs": [
    {
     "data": {
      "text/html": [
       "<div>\n",
       "<table border=\"1\" class=\"dataframe\">\n",
       "  <thead>\n",
       "    <tr style=\"text-align: right;\">\n",
       "      <th></th>\n",
       "      <th>name</th>\n",
       "      <th>Cloud Deployment</th>\n",
       "    </tr>\n",
       "  </thead>\n",
       "  <tbody>\n",
       "    <tr>\n",
       "      <th>47</th>\n",
       "      <td>Tathagata Dasgupta</td>\n",
       "      <td>1</td>\n",
       "    </tr>\n",
       "  </tbody>\n",
       "</table>\n",
       "</div>"
      ],
      "text/plain": [
       "                  name  Cloud Deployment\n",
       "47  Tathagata Dasgupta                 1"
      ]
     },
     "execution_count": 208,
     "metadata": {},
     "output_type": "execute_result"
    }
   ],
   "source": [
    "df[df[least_popular]==1][['name', least_popular]]"
   ]
  },
  {
   "cell_type": "markdown",
   "metadata": {},
   "source": [
    "### Which memebers have the highest number of topics of interest?"
   ]
  },
  {
   "cell_type": "code",
   "execution_count": 209,
   "metadata": {
    "scrolled": true
   },
   "outputs": [
    {
     "name": "stdout",
     "output_type": "stream",
     "text": [
      "50\n"
     ]
    },
    {
     "data": {
      "text/html": [
       "<div>\n",
       "<table border=\"1\" class=\"dataframe\">\n",
       "  <thead>\n",
       "    <tr style=\"text-align: right;\">\n",
       "      <th></th>\n",
       "      <th>name</th>\n",
       "      <th>total</th>\n",
       "    </tr>\n",
       "  </thead>\n",
       "  <tbody>\n",
       "    <tr>\n",
       "      <th>3</th>\n",
       "      <td>Alfredo Nava</td>\n",
       "      <td>50</td>\n",
       "    </tr>\n",
       "    <tr>\n",
       "      <th>7</th>\n",
       "      <td>Bee DC</td>\n",
       "      <td>50</td>\n",
       "    </tr>\n",
       "    <tr>\n",
       "      <th>30</th>\n",
       "      <td>Lamar Smith</td>\n",
       "      <td>50</td>\n",
       "    </tr>\n",
       "    <tr>\n",
       "      <th>32</th>\n",
       "      <td>MangoDriver</td>\n",
       "      <td>50</td>\n",
       "    </tr>\n",
       "    <tr>\n",
       "      <th>33</th>\n",
       "      <td>Matt Hall</td>\n",
       "      <td>50</td>\n",
       "    </tr>\n",
       "    <tr>\n",
       "      <th>50</th>\n",
       "      <td>Venkata sivanaga saisuvarna kris</td>\n",
       "      <td>50</td>\n",
       "    </tr>\n",
       "  </tbody>\n",
       "</table>\n",
       "</div>"
      ],
      "text/plain": [
       "                                name  total\n",
       "3                       Alfredo Nava     50\n",
       "7                             Bee DC     50\n",
       "30                       Lamar Smith     50\n",
       "32                       MangoDriver     50\n",
       "33                         Matt Hall     50\n",
       "50  Venkata sivanaga saisuvarna kris     50"
      ]
     },
     "execution_count": 209,
     "metadata": {},
     "output_type": "execute_result"
    }
   ],
   "source": [
    "basic_details = df.ix[:, :'thumb_link']\n",
    "df['total']= _df.sum(axis=1)\n",
    "print max(df['total'])\n",
    "df[['name', 'total']].sort(columns=['total'], ascending=False)\n",
    "df[df.total == max(df['total'])][['name', 'total']]"
   ]
  },
  {
   "cell_type": "markdown",
   "metadata": {},
   "source": [
    "### What is the average number of topics of interest?"
   ]
  },
  {
   "cell_type": "code",
   "execution_count": 210,
   "metadata": {},
   "outputs": [
    {
     "name": "stdout",
     "output_type": "stream",
     "text": [
      "19.9090909091\n"
     ]
    }
   ],
   "source": [
    "print df['total'].mean()"
   ]
  },
  {
   "cell_type": "markdown",
   "metadata": {},
   "source": [
    "### Which two members have the most common overlap of interests?"
   ]
  },
  {
   "cell_type": "code",
   "execution_count": 218,
   "metadata": {},
   "outputs": [
    {
     "name": "stdout",
     "output_type": "stream",
     "text": [
      "(Alfredo Nava, Ashley)                          15\n",
      "(Bee DC, Govind G Nair)                         12\n",
      "(Ashley, Raymond)                               11\n",
      "(Jaimie Catoe, Raymond)                         11\n",
      "(Bee DC, Raymond)                               11\n",
      "(Ashley, Nikhil Sharma)                         11\n",
      "(Alfredo Nava, Lamar Smith)                     11\n",
      "(Lamar Smith, MangoDriver)                      11\n",
      "(Alfredo Nava, Tathagata Dasgupta)              11\n",
      "(Lamar Smith, Nikhil Sharma)                    11\n",
      "(Nikhil Sharma, Raymond)                        10\n",
      "(Alfredo Nava, Bee DC)                          10\n",
      "(Jaimie Catoe, Jayna Kehres)                    10\n",
      "(MangoDriver, Raymond)                          10\n",
      "(Ashley, MangoDriver)                           10\n",
      "(Jason Wirth, Jennifer Joo)                     10\n",
      "(Ashley, Lamar Smith)                           10\n",
      "(Bee DC, Jason Wirth)                           10\n",
      "(Alfredo Nava, Jason Wirth)                     10\n",
      "(abhishek kumar, Smitha Shivakumar)              9\n",
      "(abhishek kumar, Raymond)                        9\n",
      "(Ashley, Bee DC)                                 9\n",
      "(Jayna Kehres, MangoDriver)                      9\n",
      "(Julia Poncela-Casasnovas, Raymond)              9\n",
      "(Alfredo Nava, Matt Hall)                        9\n",
      "(Jaimie Catoe, MangoDriver)                      9\n",
      "(Ashley, Jason Wirth)                            9\n",
      "(Lamar Smith, Raymond)                           9\n",
      "(Bee DC, Jennifer Joo)                           9\n",
      "(Jaimie Catoe, Lamar Smith)                      9\n",
      "                                                ..\n",
      "(Ellie A., Jeff)                                 0\n",
      "(Ellie A., Jennifer Joo)                         0\n",
      "(Ellie A., Viseth Sen)                           0\n",
      "(Ellie A., Virginia)                             0\n",
      "(Ellie A., Venkata sivanaga saisuvarna kris)     0\n",
      "(Ellie A., Trevor)                               0\n",
      "(Ellie A., Teja Kodali)                          0\n",
      "(Ellie A., Tathagata Dasgupta)                   0\n",
      "(Ellie A., Suz D)                                0\n",
      "(Ellie A., Smitha Shivakumar)                    0\n",
      "(Ellie A., Rob Creel)                            0\n",
      "(Ellie A., Rob)                                  0\n",
      "(Ellie A., Raymond)                              0\n",
      "(Ellie A., Patrick Boland)                       0\n",
      "(Ellie A., Parfait)                              0\n",
      "(Ellie A., Nikhil Sharma)                        0\n",
      "(Ellie A., Nicole Carpenter)                     0\n",
      "(Ellie A., Nick Hattwick)                        0\n",
      "(Ellie A., Nicholas Kincaid)                     0\n",
      "(Ellie A., Michael Ward)                         0\n",
      "(Ellie A., Matthew Green)                        0\n",
      "(Ellie A., Matt Hall)                            0\n",
      "(Ellie A., MangoDriver)                          0\n",
      "(Ellie A., Lauren)                               0\n",
      "(Ellie A., Lamar Smith)                          0\n",
      "(Ellie A., Kishon McCormick)                     0\n",
      "(Ellie A., Kem)                                  0\n",
      "(Ellie A., Julia Poncela-Casasnovas)             0\n",
      "(Ellie A., Jordan Dietch)                        0\n",
      "(Elizabeth Carroll, Will Fuger)                  0\n",
      "dtype: int64\n"
     ]
    }
   ],
   "source": [
    "cc = list(combinations(df['name'],2))\n",
    "out = pd.DataFrame([frame.loc[c,'Cloud Deployment':'Artificial Intelligence'].product() for c in cc], index=cc)\n",
    "print out.sum(axis=1).order(ascending=False)"
   ]
  },
  {
   "cell_type": "markdown",
   "metadata": {},
   "source": [
    "### How many members are there who have no overlaps at all?"
   ]
  },
  {
   "cell_type": "markdown",
   "metadata": {},
   "source": [
    "### Given a member which other member(s) have the most common interests?"
   ]
  }
 ],
 "metadata": {
  "kernelspec": {
   "display_name": "Python [conda env:Anaconda3]",
   "language": "python",
   "name": "conda-env-Anaconda3-py"
  },
  "language_info": {
   "codemirror_mode": {
    "name": "ipython",
    "version": 3
   },
   "file_extension": ".py",
   "mimetype": "text/x-python",
   "name": "python",
   "nbconvert_exporter": "python",
   "pygments_lexer": "ipython3",
   "version": "3.6.4"
  }
 },
 "nbformat": 4,
 "nbformat_minor": 1
}
