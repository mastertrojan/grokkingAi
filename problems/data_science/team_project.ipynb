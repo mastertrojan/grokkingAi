{
 "cells": [
  {
   "cell_type": "markdown",
   "metadata": {},
   "source": [
    "## Data Analysis using Pandas\n",
    "Pandas has become the defacto package for data analysis. In this workshop, we are going to use the basics of pandas to analyze the interests of today's group. We are going to use meetup.com's api and fetch the list of interests that are listed in each of our meetup.com profile. We will compute which interests are common, which are uncommon, and find out how we can use topics of common interest to form teams for project night. \n",
    "\n",
    "Lets get started by importing the essentials. You would need meetup.com's python api and pandas installed."
   ]
  },
  {
   "cell_type": "code",
   "execution_count": 1,
   "metadata": {},
   "outputs": [],
   "source": [
    "!pip install meetup-api\n",
    "import meetup.api\n",
    "import pandas as pd\n",
    "from IPython.display import Image, display, HTML\n",
    "from itertools import combinations\n",
    "import sys"
   ]
  },
  {
   "cell_type": "markdown",
   "metadata": {},
   "source": [
    "Next one of you need get a meetup.com API key. You will find it https://secure.meetup.com/meetup_api/key/ Also you'll need tonight's event id. Tonight's event id is the nine digit number in the meetup url."
   ]
  },
  {
   "cell_type": "code",
   "execution_count": 73,
   "metadata": {},
   "outputs": [],
   "source": [
    "API_KEY = '3f6d3275d3b6314e73453c4aa27'\n",
    "event_id='239174132'"
   ]
  },
  {
   "cell_type": "markdown",
   "metadata": {},
   "source": [
    "The following function uses the api and loads the data into a pandas data frame."
   ]
  },
  {
   "cell_type": "code",
   "execution_count": 74,
   "metadata": {},
   "outputs": [],
   "source": [
    "def get_members(event_id):\n",
    "    client = meetup.api.Client(API_KEY)\n",
    "    rsvps=client.GetRsvps(event_id=event_id, urlname='_ChiPy_')\n",
    "    member_id = ','.join([str(i['member']['member_id']) for i in rsvps.results])\n",
    "    return client.GetMembers(member_id=member_id)\n",
    "\n",
    "def get_topics(members):\n",
    "    topics = set()\n",
    "    for member in members.results:\n",
    "        try:\n",
    "            for t in member['topics']:\n",
    "                topics.add(t['name'])\n",
    "        except:\n",
    "            print(\"Unexpected error:\", sys.exc_info()[0])\n",
    "            raise\n",
    "\n",
    "    return list(topics)\n",
    "\n",
    "def df_topics(event_id):\n",
    "    members = get_members(event_id=event_id)\n",
    "    topics = get_topics(members)\n",
    "    columns=['name','id','thumb_link'] + topics\n",
    "    \n",
    "    data = [] \n",
    "    for member in members.results:\n",
    "        topic_vector = [0]*len(topics)\n",
    "        for topic in member['topics']:\n",
    "            index = topics.index(topic['name'])       \n",
    "            topic_vector[index] = 1\n",
    "        try:\n",
    "            data.append([member['name'], member['id'], member['photo']['thumb_link']] + topic_vector)\n",
    "        except KeyError:\n",
    "            data.append([member['name'], member['id'], 'NA'] + topic_vector)\n",
    "        except:\n",
    "            print(\"Unexpected error:\", sys.exc_info()[0])\n",
    "            raise\n",
    "    return pd.DataFrame(data=data, columns=columns)"
   ]
  },
  {
   "cell_type": "markdown",
   "metadata": {},
   "source": [
    "### Q1: Load data from meetup.com into a dataframe by calling df_topics.\n",
    "You'll need to call the `df_topics` function with the `event_id` and assign it to a variable to use it for the following questions."
   ]
  },
  {
   "cell_type": "code",
   "execution_count": null,
   "metadata": {},
   "outputs": [],
   "source": []
  },
  {
   "cell_type": "markdown",
   "metadata": {},
   "source": [
    "### Q2: What are the column names of the dataframe?"
   ]
  },
  {
   "cell_type": "code",
   "execution_count": null,
   "metadata": {},
   "outputs": [],
   "source": []
  },
  {
   "cell_type": "markdown",
   "metadata": {},
   "source": [
    "### Q3: How do you check the index of the dataframe? Can you set the index of the data frame to be the names column? "
   ]
  },
  {
   "cell_type": "code",
   "execution_count": null,
   "metadata": {},
   "outputs": [],
   "source": []
  },
  {
   "cell_type": "markdown",
   "metadata": {},
   "source": [
    "### Q4: How would you get the transpose of the dataframe?"
   ]
  },
  {
   "cell_type": "code",
   "execution_count": null,
   "metadata": {},
   "outputs": [],
   "source": []
  },
  {
   "cell_type": "markdown",
   "metadata": {},
   "source": [
    "### Q5: What does the first and last 10 rows of the dataset look like?"
   ]
  },
  {
   "cell_type": "code",
   "execution_count": null,
   "metadata": {
    "collapsed": true
   },
   "outputs": [],
   "source": []
  },
  {
   "cell_type": "markdown",
   "metadata": {},
   "source": [
    "### Q6: Write the data out to a csv file. Only include names and topics. Do not include member id and thumblink."
   ]
  },
  {
   "cell_type": "code",
   "execution_count": null,
   "metadata": {
    "collapsed": true
   },
   "outputs": [],
   "source": []
  },
  {
   "cell_type": "markdown",
   "metadata": {},
   "source": [
    "### Q7: How many unique topics of interest do we have?"
   ]
  },
  {
   "cell_type": "code",
   "execution_count": null,
   "metadata": {
    "collapsed": true
   },
   "outputs": [],
   "source": []
  },
  {
   "cell_type": "markdown",
   "metadata": {},
   "source": [
    "### Q8: Write a function that takes a name and gives back all of his/her interest."
   ]
  },
  {
   "cell_type": "code",
   "execution_count": null,
   "metadata": {
    "collapsed": true
   },
   "outputs": [],
   "source": []
  },
  {
   "cell_type": "markdown",
   "metadata": {},
   "source": [
    "### Q9: Write a function that takes a topic of interest and gives back names who are interested."
   ]
  },
  {
   "cell_type": "code",
   "execution_count": null,
   "metadata": {
    "collapsed": true
   },
   "outputs": [],
   "source": []
  },
  {
   "cell_type": "markdown",
   "metadata": {},
   "source": [
    "### Q10: Who has the highest number of topics? How many topics is he/she interested in?"
   ]
  },
  {
   "cell_type": "code",
   "execution_count": null,
   "metadata": {
    "collapsed": true
   },
   "outputs": [],
   "source": []
  },
  {
   "cell_type": "markdown",
   "metadata": {},
   "source": [
    "### Q11: Which is the most common topic of intertest? Which is the least popular topic of interest?"
   ]
  },
  {
   "cell_type": "code",
   "execution_count": null,
   "metadata": {
    "collapsed": true
   },
   "outputs": [],
   "source": []
  },
  {
   "cell_type": "markdown",
   "metadata": {},
   "source": [
    "### Q12: Which names are associated with the topics of interest found in the previous question?"
   ]
  },
  {
   "cell_type": "code",
   "execution_count": null,
   "metadata": {},
   "outputs": [],
   "source": []
  },
  {
   "cell_type": "markdown",
   "metadata": {},
   "source": [
    "### Q13: Draw a plot that shows the frequency of each topic."
   ]
  },
  {
   "cell_type": "code",
   "execution_count": null,
   "metadata": {
    "collapsed": true
   },
   "outputs": [],
   "source": []
  },
  {
   "cell_type": "markdown",
   "metadata": {},
   "source": [
    "### Q14: Are there topic(s) common to all the members of your team?"
   ]
  },
  {
   "cell_type": "code",
   "execution_count": null,
   "metadata": {},
   "outputs": [],
   "source": []
  },
  {
   "cell_type": "markdown",
   "metadata": {},
   "source": [
    "### Q15: Write a function that will take the names of your team members and rank every pair by the number of topics common among them. So if the team has A, B, C and D, an example could be\n",
    "\n",
    "    A, B - 6\n",
    "    A, C - 5\n",
    "    A, D - 4\n",
    "    B, C - 3\n",
    "    B, D - 2\n",
    "    C, D - 1\n",
    "\n",
    "### Note the pairs are sorted in the number of topics common among them.\n"
   ]
  },
  {
   "cell_type": "code",
   "execution_count": null,
   "metadata": {},
   "outputs": [],
   "source": []
  }
 ],
 "metadata": {
  "kernelspec": {
   "display_name": "Python [default]",
   "language": "python",
   "name": "python3"
  },
  "language_info": {
   "codemirror_mode": {
    "name": "ipython",
    "version": 3
   },
   "file_extension": ".py",
   "mimetype": "text/x-python",
   "name": "python",
   "nbconvert_exporter": "python",
   "pygments_lexer": "ipython3",
   "version": "3.5.4"
  }
 },
 "nbformat": 4,
 "nbformat_minor": 2
}
